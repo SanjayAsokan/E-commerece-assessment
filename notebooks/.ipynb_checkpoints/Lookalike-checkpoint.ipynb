{
 "cells": [
  {
   "cell_type": "code",
   "execution_count": 4,
   "id": "0af02794-96d7-451b-82ca-7d41dc3742f4",
   "metadata": {},
   "outputs": [
    {
     "name": "stdout",
     "output_type": "stream",
     "text": [
      "Lookalike Model Results:\n",
      "   CustomerID  Lookalike1  Score1  Lookalike2  Score2  Lookalike3  Score3\n",
      "0           1           2     0.0           3     0.0           4     0.0\n",
      "1           2           5     1.0           1     0.0           3    -1.0\n",
      "2           3           4     1.0           1     0.0           2    -1.0\n",
      "3           4           4     1.0           1     0.0           2    -1.0\n",
      "4           5           5     1.0           1     0.0           3    -1.0\n"
     ]
    }
   ],
   "source": [
    "import pandas as pd\n",
    "from sklearn.preprocessing import StandardScaler\n",
    "from sklearn.metrics.pairwise import cosine_similarity\n",
    "\n",
    "\n",
    "data = {\n",
    "    'CustomerID': [1, 2, 3, 4, 5],\n",
    "    'TotalValue': [500, 700, 300, 400, 600],\n",
    "    'Quantity': [50, 70, 30, 40, 60]\n",
    "}\n",
    "transactions = pd.DataFrame(data)\n",
    "\n",
    "# Save the simulated data (optional, for reference)\n",
    "transactions.to_csv('../data/merged_dataset.csv', index=False)\n",
    "\n",
    "# Load the dataset (if using an existing one, adjust the file path)\n",
    "merged = transactions  # Use this line if loading directly: pd.read_csv('../data/merged_dataset.csv')\n",
    "\n",
    "# Step 2: Aggregate Customer Transaction Data\n",
    "customer_features = merged.groupby('CustomerID').agg({\n",
    "    'TotalValue': 'sum',\n",
    "    'Quantity': 'sum'\n",
    "}).reset_index()\n",
    "\n",
    "# Step 3: Standardize Numerical Features\n",
    "scaler = StandardScaler()\n",
    "scaled_features = scaler.fit_transform(customer_features.iloc[:, 1:])\n",
    "\n",
    "# Step 4: Compute Similarities\n",
    "similarity_matrix = cosine_similarity(scaled_features)\n",
    "\n",
    "# Step 5: Find Top 3 Lookalike Customers for Each Customer\n",
    "similar_customers = {}\n",
    "for idx, customer in enumerate(customer_features['CustomerID']):\n",
    "    scores = list(enumerate(similarity_matrix[idx]))\n",
    "    # Sort by similarity score, exclude the customer itself\n",
    "    scores = sorted(scores, key=lambda x: x[1], reverse=True)[1:4]\n",
    "    similar_customers[customer] = [\n",
    "        (customer_features['CustomerID'][s[0]], s[1]) for s in scores\n",
    "    ]\n",
    "\n",
    "# Step 6: Save Results in a DataFrame\n",
    "lookalike_df = pd.DataFrame([\n",
    "    (k, v[0][0], v[0][1], v[1][0], v[1][1], v[2][0], v[2][1]) \n",
    "    for k, v in similar_customers.items()\n",
    "], columns=['CustomerID', 'Lookalike1', 'Score1', 'Lookalike2', 'Score2', 'Lookalike3', 'Score3'])\n",
    "\n",
    "# Save the lookalike results to a CSV file\n",
    "lookalike_df.to_csv('../outputs/Lookalike.csv', index=False)\n",
    "\n",
    "# Step 7: Print Output for Validation\n",
    "print(\"Lookalike Model Results:\")\n",
    "print(lookalike_df)\n"
   ]
  },
  {
   "cell_type": "code",
   "execution_count": null,
   "id": "e391595d-e875-47f2-b4e7-00ed083a02ef",
   "metadata": {},
   "outputs": [],
   "source": []
  }
 ],
 "metadata": {
  "kernelspec": {
   "display_name": "Python 3 (ipykernel)",
   "language": "python",
   "name": "python3"
  },
  "language_info": {
   "codemirror_mode": {
    "name": "ipython",
    "version": 3
   },
   "file_extension": ".py",
   "mimetype": "text/x-python",
   "name": "python",
   "nbconvert_exporter": "python",
   "pygments_lexer": "ipython3",
   "version": "3.12.0"
  }
 },
 "nbformat": 4,
 "nbformat_minor": 5
}
